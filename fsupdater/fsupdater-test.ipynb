{
 "cells": [
  {
   "cell_type": "code",
   "execution_count": 33,
   "metadata": {},
   "outputs": [],
   "source": [
    "import requests\n",
    "from datetime import date,timedelta,datetime\n",
    "from bs4 import BeautifulSoup as Bs\n",
    "import re"
   ]
  },
  {
   "cell_type": "code",
   "execution_count": 182,
   "metadata": {},
   "outputs": [],
   "source": [
    "target = {\n",
    "    'bpom':'https://www.pom.go.id/new/browse/more/pers/',\n",
    "    'fssc':'https://www.fssc.com/insights/?types=update',\n",
    "    'gfsi':'https://mygfsi.com/',\n",
    "    'ec': 'https://food.ec.europa.eu/news_en',\n",
    "    'usfda':'https://www.fda.gov/news-events/fda-newsroom/press-announcements',\n",
    "    'codex':'https://www.fao.org/fao-who-codexalimentarius/news-and-events/en/',\n",
    "}"
   ]
  },
  {
   "cell_type": "code",
   "execution_count": 308,
   "metadata": {},
   "outputs": [],
   "source": [
    "indonesian_month_mapper = {\n",
    "    'Januari':'January',\n",
    "    'Februari':'February',\n",
    "    'Maret':'March',\n",
    "    'April':'April',\n",
    "    'Mei':'May',\n",
    "    'Juni':'June',\n",
    "    'Agustus':'August',\n",
    "    'September':'September',\n",
    "    'Oktober' :'October',\n",
    "    'November':'November',\n",
    "    'Desember':'December'\n",
    "}"
   ]
  },
  {
   "cell_type": "markdown",
   "metadata": {},
   "source": [
    "#### 1.Extract news from  BPOM website  "
   ]
  },
  {
   "cell_type": "code",
   "execution_count": 2,
   "metadata": {},
   "outputs": [],
   "source": [
    "today = date.today() # used for All other target Website "
   ]
  },
  {
   "cell_type": "code",
   "execution_count": 3,
   "metadata": {},
   "outputs": [],
   "source": [
    "last_week = today - timedelta(days=7) # used for All other target Website "
   ]
  },
  {
   "cell_type": "code",
   "execution_count": 4,
   "metadata": {},
   "outputs": [],
   "source": [
    "str_today = today.strftime(\"%d-%m-%Y\")"
   ]
  },
  {
   "cell_type": "code",
   "execution_count": 5,
   "metadata": {},
   "outputs": [],
   "source": [
    "str_today\n",
    "str_last_week = last_week.strftime(\"%d-%m-%Y\")"
   ]
  },
  {
   "cell_type": "code",
   "execution_count": 328,
   "metadata": {},
   "outputs": [],
   "source": [
    "req = requests.get(f'https://www.pom.go.id/new/browse/more/pers/{str_last_week}/{str_today}')\n"
   ]
  },
  {
   "cell_type": "code",
   "execution_count": 329,
   "metadata": {},
   "outputs": [],
   "source": [
    "bs = Bs(req.content,parser='lxml')"
   ]
  },
  {
   "cell_type": "code",
   "execution_count": 330,
   "metadata": {},
   "outputs": [],
   "source": [
    "selected_entry_news = bs.select('h4.entry-title a')\n",
    "selected_entry_date = bs.select('p.e_meta a span')"
   ]
  },
  {
   "cell_type": "code",
   "execution_count": 316,
   "metadata": {},
   "outputs": [],
   "source": [
    "bpom_news = {}\n",
    "if len(selected_entry_date) and (selected_entry_news) == 0 : \n",
    "    str_today = today.strftime(\"%d %B %Y\")\n",
    "    bpom_news[str_today] = \"No update this week \"\n",
    "    "
   ]
  },
  {
   "cell_type": "code",
   "execution_count": 332,
   "metadata": {},
   "outputs": [
    {
     "name": "stdout",
     "output_type": "stream",
     "text": [
      "BPOM Bangun Sinergi Wujudkan Kemandirian Produk Darah Dalam Negeri\n",
      "BPOM Terbitkan EUA Booster Heterolog Vaksin Inavac\n"
     ]
    }
   ],
   "source": [
    "for news in selected_entry_news : \n",
    "    print(news.getText())"
   ]
  },
  {
   "cell_type": "code",
   "execution_count": 320,
   "metadata": {},
   "outputs": [],
   "source": [
    "list_news_bpom=[]\n",
    "for s in selected_entry_news: \n",
    "    list_news_bpom.append(s.getText())"
   ]
  },
  {
   "cell_type": "markdown",
   "metadata": {},
   "source": [
    "#### 2. Extract News From FSSC Foundation Website "
   ]
  },
  {
   "cell_type": "code",
   "execution_count": 13,
   "metadata": {},
   "outputs": [],
   "source": [
    "url = \"https://www.fssc.com/insights/?types=update\""
   ]
  },
  {
   "cell_type": "code",
   "execution_count": 14,
   "metadata": {},
   "outputs": [],
   "source": [
    "req = requests.get(url)\n",
    "bs = Bs(req.content,'lxml')"
   ]
  },
  {
   "cell_type": "code",
   "execution_count": 16,
   "metadata": {},
   "outputs": [],
   "source": [
    "dates = bs.select(\"div.insight-events-header p\") \n",
    "titles = bs.select(\"h4.insight-events-title\")"
   ]
  },
  {
   "cell_type": "code",
   "execution_count": 29,
   "metadata": {},
   "outputs": [],
   "source": [
    "list_date = []\n",
    "for d in dates :\n",
    "    list_date.append(d.getText())\n",
    "\n",
    "list_title = []\n",
    "for t in titles : \n",
    "    list_title.append(t.getText())\n"
   ]
  },
  {
   "cell_type": "code",
   "execution_count": 309,
   "metadata": {},
   "outputs": [],
   "source": [
    "def check_zero_pad_date(fs,str_date): \n",
    "    if fs == \"usfda\":             \n",
    "        split = re.split(' |, ',str_date)\n",
    "     \n",
    "        if len(split[1]) == 1 :\n",
    "            split[1] = \"0\" + split[1]\n",
    "           \n",
    "            return \" \".join(split)\n",
    "        else : \n",
    "           \n",
    "           \n",
    "            return str_date\n",
    "    elif fs == \"fssc\": \n",
    "        split = re.split(' ',str_date)\n",
    "        if len(split[0]==1):\n",
    "            split[0] = \"0\"+split[0]\n",
    "            return \" \".join(split)\n",
    "        else : \n",
    "            return str_date\n",
    "    elif fs == 'bpom': \n",
    "        split = re.split(' ',str_date)\n",
    "        split[1] = indonesian_month_mapper[split[1]]\n",
    "        if len(split[0]) == 1 : \n",
    "            split[0] = \"0\"+split[0]\n",
    "            return \" \".join(split)\n",
    "        else : \n",
    "            return \" \".join(split)\n",
    " \n"
   ]
  },
  {
   "cell_type": "code",
   "execution_count": 322,
   "metadata": {},
   "outputs": [],
   "source": [
    "def check_date_within_a_week(fs,d,last_week_date):\n",
    "    try : \n",
    "        if fs == 'fssc': \n",
    "            print(\"agus1\")\n",
    "            matched = re.findall('\\d+ .+, \\d{4}',d)\n",
    "            new_str = check_zero_pad_date(fs,matched[0])\n",
    "            date_object = datetime.strptime(new_str,\"%d %B, %Y\")\n",
    "           \n",
    "        elif (fs == 'gfsi' or fs == 'codex' or fs == 'bpom'): \n",
    "            matched = re.findall('\\d+ .+ \\d{4}',d)\n",
    "            if fs == 'gfsi': \n",
    "                date_object = datetime.strptime(matched[0],\"%d %b %Y\")\n",
    "            elif fs == 'codex': \n",
    "                date_object = datetime.strptime(matched[0],\"%d %B %Y\")\n",
    "            elif fs == 'bpom': \n",
    "                new_str = check_zero_pad_date(fs,matched[0])\n",
    "                date_object = datetime.strptime(new_str,\"%d %B %Y\")\n",
    "        elif fs == \"usfda\": \n",
    "            matched = re.findall('.+ \\d+, \\d{4}',d)\n",
    "          \n",
    "            new_str = check_zero_pad_date(fs,matched[0])\n",
    "         \n",
    "            date_object = datetime.strptime(new_str,\"%B %d, %Y\")\n",
    "      \n",
    "        if date_object.date() >= last_week_date : \n",
    "            str_date = date_object.date().strftime(\"%d %B %Y\")\n",
    "  \n",
    "            return str_date\n",
    "    except:\n",
    "        print(\"errrrooorrrrr\")\n",
    "        # if matched: \n",
    "        #     new_date_string = '0'+matched[0] # to handle non-zero padded date \n",
    "        #     date_object = datetime.strptime(new_date_string,\"%d %B, %Y\")\n",
    "        #     if date_object.date() > last_week_date : \n",
    "        #         str_date = date_object.date().strftime(\"%d %B %Y\")\n",
    "        #         return str_date\n",
    "\n",
    "        # else : \n",
    "        #     pass\n",
    "    \n",
    "            \n",
    "\n"
   ]
  },
  {
   "cell_type": "markdown",
   "metadata": {},
   "source": [
    "#### 3. Extract News From GFSI Website "
   ]
  },
  {
   "cell_type": "code",
   "execution_count": 95,
   "metadata": {},
   "outputs": [],
   "source": [
    "url = 'https://mygfsi.com/'\n",
    "headers = {'User-Agent':'Mozilla/5.0 (Windows NT 10.0; Win64; x64) AppleWebKit/537.36 (KHTML, like Gecko) Chrome/107.0.0.0 Safari/537.36'}\n",
    "# you need to add headers of user agent in this website. \n",
    "req = requests.get(url,headers=headers)\n",
    "bs = Bs(req.content,'lxml')"
   ]
  },
  {
   "cell_type": "code",
   "execution_count": 122,
   "metadata": {},
   "outputs": [],
   "source": [
    "featured_news = bs.select('div.featured-news.section.grey-bg .section-title a')\n",
    "featured_dates = bs.select('div.featured-news.section.grey-bg .grid-nav .left')"
   ]
  },
  {
   "cell_type": "code",
   "execution_count": 150,
   "metadata": {},
   "outputs": [],
   "source": [
    "list_news = [n.getText() for n in featured_news]\n",
    "list_dates = [d.getText() for d in featured_dates]"
   ]
  },
  {
   "cell_type": "code",
   "execution_count": 153,
   "metadata": {},
   "outputs": [
    {
     "name": "stdout",
     "output_type": "stream",
     "text": [
      "['22 Nov 2022', '14 Nov 2022', '9 Nov 2022']\n"
     ]
    }
   ],
   "source": [
    "print(list_dates)"
   ]
  },
  {
   "cell_type": "code",
   "execution_count": 325,
   "metadata": {},
   "outputs": [],
   "source": [
    "def create_news_dict(fs,list_news,list_dates,today_date,last_week_date):\n",
    "     news_dict = {}\n",
    "     for d,n in zip(list_dates,list_news): \n",
    "          valid_date = check_date_within_a_week(fs,d,last_week_date)\n",
    "          print(valid_date)\n",
    "          if valid_date : \n",
    "               news_dict[n] = valid_date\n",
    "     if len(news_dict) == 0 : \n",
    "          str_today = today_date.strftime(\"%d %B %Y\")\n",
    "          news_dict[\"No update this week\"] = str_today\n",
    "     \n",
    "     return news_dict\n",
    "          \n"
   ]
  },
  {
   "cell_type": "code",
   "execution_count": null,
   "metadata": {},
   "outputs": [],
   "source": [
    "news_dict_gfsi = create_news_dict('gfsi',list_news,list_dates,today,last_week)"
   ]
  },
  {
   "cell_type": "code",
   "execution_count": 176,
   "metadata": {},
   "outputs": [
    {
     "data": {
      "text/plain": [
       "{'22 November 2022': 'GFSI Science & Technology Advisory Group Publish Papers on Areas Set to Significantly Impact Food Safety'}"
      ]
     },
     "execution_count": 176,
     "metadata": {},
     "output_type": "execute_result"
    }
   ],
   "source": [
    "news_dict_gfsi"
   ]
  },
  {
   "cell_type": "markdown",
   "metadata": {},
   "source": [
    "#### 4. Extract news from Codex Alimentarius "
   ]
  },
  {
   "cell_type": "code",
   "execution_count": 185,
   "metadata": {},
   "outputs": [],
   "source": [
    "req = requests.get('https://www.fao.org/fao-who-codexalimentarius/news-and-events/en/')\n",
    "bs = Bs(req.content,'lxml')\n",
    "titles = bs.select('h3.list-title a')\n",
    "dates = bs.select('div.list-date')"
   ]
  },
  {
   "cell_type": "code",
   "execution_count": 190,
   "metadata": {},
   "outputs": [],
   "source": [
    "list_titles = [x.getText() for x in titles]\n",
    "list_dates = [x.getText() for x in dates]"
   ]
  },
  {
   "cell_type": "code",
   "execution_count": 209,
   "metadata": {},
   "outputs": [],
   "source": [
    "new_dict_codex = create_news_dict('codex',list_titles,list_dates,today,last_week)"
   ]
  },
  {
   "cell_type": "code",
   "execution_count": 210,
   "metadata": {},
   "outputs": [
    {
     "data": {
      "text/plain": [
       "{'24 November 2022': 'New eLearning course: Master the foundations of Codex on any digital device',\n",
       " '23 November 2022': 'Codex votes but zilpaterol remains unresolved',\n",
       " '21 November 2022': 'CAC45 opens in FAO / QU Dongyu: science and data play a crucial role in setting standards',\n",
       " '19 November 2022': 'CAC45 / Steve Wearne outlines conduct of discussions on zilpaterol'}"
      ]
     },
     "execution_count": 210,
     "metadata": {},
     "output_type": "execute_result"
    }
   ],
   "source": [
    "\n",
    "new_dict_codex"
   ]
  },
  {
   "cell_type": "markdown",
   "metadata": {},
   "source": [
    "#### 5. Extract News from US FDA "
   ]
  },
  {
   "cell_type": "code",
   "execution_count": 247,
   "metadata": {},
   "outputs": [],
   "source": [
    "req = requests.get('https://www.fda.gov/news-events/fda-newsroom/press-announcements')\n",
    "bs = Bs(req.content,'lxml')\n",
    "dates = bs.select('span.field-content a time')\n"
   ]
  },
  {
   "cell_type": "code",
   "execution_count": 251,
   "metadata": {},
   "outputs": [],
   "source": [
    "news_tag = bs.select('span.field-content a')\n",
    "news = []\n",
    "for n in news_tag : \n",
    "    new_n = re.sub('.+ \\d+, \\d{4}\\n - ','',n.getText())\n",
    "    news.append(new_n)\n",
    "    "
   ]
  },
  {
   "cell_type": "code",
   "execution_count": 273,
   "metadata": {},
   "outputs": [],
   "source": [
    "list_dates = [x.getText() for x in dates]\n"
   ]
  },
  {
   "cell_type": "code",
   "execution_count": 291,
   "metadata": {},
   "outputs": [
    {
     "data": {
      "text/plain": [
       "['FDA Approves First Gene Therapy to Treat Adults with Hemophilia B',\n",
       " 'FDA Roundup: November 22, 2022 ',\n",
       " 'FDA Roundup: November 18, 2022 ',\n",
       " 'FDA Approves First Drug That Can Delay Onset of Type 1 Diabetes',\n",
       " 'FDA Warns Seven Companies for Selling Dietary Supplements with Claims to Treat Cardiovascular Disease',\n",
       " 'FDA Spurs Innovation for Human Food from Animal Cell Culture Technology ',\n",
       " 'FDA Warns Firms for Selling Illegal E-cigarettes That Look Like Toys, Food, and Cartoon Characters',\n",
       " 'FDA Roundup: November 15, 2022 ',\n",
       " 'FDA Advances the New Era of Smarter Food Safety, Finalizing Foundational Rule to Improve Traceability of Contaminated Foods',\n",
       " 'FDA Conditionally Approves First Drug to Manage Acute Onset of Pancreatitis in Dogs']"
      ]
     },
     "execution_count": 291,
     "metadata": {},
     "output_type": "execute_result"
    }
   ],
   "source": [
    "news"
   ]
  },
  {
   "cell_type": "code",
   "execution_count": null,
   "metadata": {},
   "outputs": [],
   "source": [
    "new_dict_usfda = create_news_dict('usfda',news,list_dates,today,last_week)\n"
   ]
  },
  {
   "cell_type": "code",
   "execution_count": null,
   "metadata": {},
   "outputs": [],
   "source": [
    "new_dict_usfda"
   ]
  },
  {
   "cell_type": "code",
   "execution_count": null,
   "metadata": {},
   "outputs": [],
   "source": []
  }
 ],
 "metadata": {
  "interpreter": {
   "hash": "ac3e2f716515ef792cdc05e07e989e6952a57854b25bc3a8602f1d7420e0ab81"
  },
  "kernelspec": {
   "display_name": "Python 3.9.6 64-bit",
   "language": "python",
   "name": "python3"
  },
  "language_info": {
   "codemirror_mode": {
    "name": "ipython",
    "version": 3
   },
   "file_extension": ".py",
   "mimetype": "text/x-python",
   "name": "python",
   "nbconvert_exporter": "python",
   "pygments_lexer": "ipython3",
   "version": "3.9.6"
  },
  "orig_nbformat": 4
 },
 "nbformat": 4,
 "nbformat_minor": 2
}
